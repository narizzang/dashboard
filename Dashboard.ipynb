{
 "cells": [
  {
   "cell_type": "markdown",
   "metadata": {},
   "source": [
    "# DIY Covid-19 Dashboard"
   ]
  },
  {
   "cell_type": "markdown",
   "metadata": {},
   "source": [
    "This is a template for your DIY Covid Dashboard, to which you can add the code you developed in the previous notebooks. The dashboard will be displayed using [voila](https://voila.readthedocs.io/en/stable/index.html), a Python dashboarding tool that converts notebooks to standalone dashboards. Contrary to the other libraries we have seen, the ```voila``` package must be installed using *pip* or *conda* but it does not need to be imported - it rather acts at the level of the notebook server. Package ```voila``` is already installed on the QMUL JupyterHub as well as in the Binder - to install it locally, follow the [instructions](https://voila.readthedocs.io/en/stable/install.html) online.\n",
    "\n",
    "Broadly speaking, Voila acts by **running all the cells in your notebook** when the dashboard is first loaded; it then hides all code cells and displays all markdown cells and any outputs, including widgets. However, the code is still there in the background and handles any interaction with the widgets. To view this dashboard template rendered in Voila click [here](https://mybinder.org/v2/gh/fsmeraldi/diy-covid19dash/main?urlpath=%2Fvoila%2Frender%2FDashboard.ipynb)."
   ]
  },
  {
   "cell_type": "code",
   "execution_count": 1,
   "metadata": {},
   "outputs": [],
   "source": [
    "from IPython.display import clear_output\n",
    "import ipywidgets as wdg\n",
    "import pandas as pd\n",
    "import numpy as np\n",
    "import matplotlib.pyplot as plt\n",
    "import json\n",
    "from uk_covid19 import Cov19API"
   ]
  },
  {
   "cell_type": "code",
   "execution_count": 9,
   "metadata": {},
   "outputs": [],
   "source": [
    "%matplotlib inline\n",
    "# make figures larger\n",
    "plt.rcParams['figure.dpi'] = 100"
   ]
  },
  {
   "cell_type": "code",
   "execution_count": 7,
   "metadata": {},
   "outputs": [],
   "source": [
    "# Load JSON files and store the raw data in some variable. Edit as appropriate\n",
    "with open(\"vaccinated.json\", \"rt\") as INFILE:\n",
    "    vacdata=json.load(INFILE)\n",
    "with open(\"pcrtest.json\", \"rt\") as INFILE:\n",
    "    pcrdata=json.load(INFILE)\n",
    "def parse_date(datestring):\n",
    "    \"\"\" Convert a date string into a pandas datetime object \"\"\"\n",
    "    return pd.to_datetime(datestring, format=\"%Y-%m-%d\")"
   ]
  },
  {
   "cell_type": "code",
   "execution_count": 9,
   "metadata": {},
   "outputs": [],
   "source": [
    "def vac_data(rawdata):\n",
    "    datalist = rawdata['data']\n",
    "    dates=[dictionary['date'] for dictionary in datalist ]\n",
    "    dates.sort()\n",
    "    startdate=parse_date(dates[0])\n",
    "    enddate=parse_date(dates[-1])\n",
    "    index=pd.date_range(startdate, enddate, freq='D')\n",
    "    pcrdf=pd.DataFrame(index=index, columns=['death', 'first', 'second', 'third'])\n",
    "    for entry in datalist: \n",
    "        date=parse_date(entry['date'])\n",
    "        for column in ['death', 'first', 'second', 'third']:\n",
    "            if pd.isna(pcrdf.loc[date, column]): \n",
    "                value= float(entry[column]) if entry[column]!=None else 0.0\n",
    "                pcrdf.loc[date, column]=value\n",
    "    pcrdf.fillna(0.0, inplace=True)\n",
    "    return pcrdf\n",
    "\n",
    "\n",
    "def pcr_data(rawdata):\n",
    "    datalist = rawdata['data']\n",
    "    dates=[dictionary['date'] for dictionary in datalist ]\n",
    "    dates.sort()\n",
    "    startdate=parse_date(dates[0])\n",
    "    enddate=parse_date(dates[-1])\n",
    "    index=pd.date_range(startdate, enddate, freq='D')\n",
    "    pcrdf=pd.DataFrame(index=index, columns=['case', 'pcr', 'hospital'])\n",
    "    for entry in datalist: \n",
    "        date=parse_date(entry['date'])\n",
    "        for column in ['case', 'pcr', 'hospital']:\n",
    "            if pd.isna(pcrdf.loc[date, column]): \n",
    "                value= float(entry[column]) if entry[column]!=None else 0.0\n",
    "                pcrdf.loc[date, column]=value\n",
    "    pcrdf.fillna(0.0, inplace=True)\n",
    "    return pcrdf\n",
    "\n",
    "\n",
    "\n",
    "# putting the wrangling code into a function allows you to call it again after refreshing the data through \n",
    "# the API. You should call the function directly on the JSON data when the dashboard starts, by including \n",
    "# the call in this cell as below:\n",
    "pcrdf = pcr_data(pcrdata) # df is the dataframe for plotting\n",
    "vacdf = vac_data(vacdata)"
   ]
  },
  {
   "cell_type": "markdown",
   "metadata": {},
   "source": []
  },
  {
   "cell_type": "code",
   "execution_count": 13,
   "metadata": {},
   "outputs": [],
   "source": [
    "# Place your API access code in this function. Do not call this function directly; it will be called by \n",
    "# the button callback. \n",
    "def access_api(num):\n",
    "    filter = ['areaType=nation', 'areaName=England']\n",
    "    structure1 = {\n",
    "    \"date\": \"date\",\n",
    "    \"death\": \"newDeaths28DaysByDeathDate\",\n",
    "    \"first\": \"newPeopleVaccinatedFirstDoseByPublishDate\",\n",
    "    \"second\": \"newPeopleVaccinatedSecondDoseByPublishDate\",\n",
    "    \"third\": \"newPeopleVaccinatedThirdInjectionByPublishDate\"\n",
    "    }\n",
    "    structure2 = {\n",
    "        \"date\": \"date\",\n",
    "        \"case\": \"newCasesBySpecimenDate\",\n",
    "        \"pcr\": \"newPCRTestsByPublishDate\",\n",
    "        \"hospital\": \"newAdmissions\",\n",
    "    }\n",
    "    if num == 1:\n",
    "        api = Cov19API(filters=filters, structure=structure1)\n",
    "    else:\n",
    "        api = Cov19API(filters=filters, structure=structure2)\n",
    "        \n",
    "    return api.get_json()    "
   ]
  },
  {
   "cell_type": "code",
   "execution_count": 35,
   "metadata": {},
   "outputs": [
    {
     "data": {
      "application/vnd.jupyter.widget-view+json": {
       "model_id": "d6501ab2d7c447fe935eae2a2fbf10fa",
       "version_major": 2,
       "version_minor": 0
      },
      "text/plain": [
       "HBox(children=(Button(description='Vaccinated Data', style=ButtonStyle(button_color='lightblue', font_weight='…"
      ]
     },
     "metadata": {},
     "output_type": "display_data"
    }
   ],
   "source": [
    "# Printout from this function will be lost in Voila unless captured in an\n",
    "# output widget - therefore, we give feedback to the user by changing the \n",
    "# appearance of the button\n",
    "def api1_button_callback(button):\n",
    "    \"\"\" Button callback - it must take the button as its parameter (unused in this case).\n",
    "    Accesses API, wrangles data, updates global variable df used for plotting. \"\"\"\n",
    "    # Get fresh data from the API. If you have time, include some error handling\n",
    "    # around this call.\n",
    "    apidata=access_api(1)\n",
    "    global df\n",
    "    df=vac_data(apidata)\n",
    "    vac_graph()\n",
    "\n",
    "def api2_button_callback(button):\n",
    "    apidata=access_api(2)\n",
    "    global df\n",
    "    df=pcr_data(apidata)\n",
    "    pcr_graph()\n",
    "\n",
    "    \n",
    "btn1_style = wdg.ButtonStyle()    \n",
    "api1button=wdg.Button(\n",
    "    description='Vaccinated Data',\n",
    "    disabled=False,\n",
    ")\n",
    "btn1_style.button_color = 'lightblue'\n",
    "btn1_style.font_weight = 'bold'       \n",
    "btn1_style.border_color = 'gray' \n",
    "btn1_style.border_width = '2px'    \n",
    "btn1_style.border_radius = '5px' \n",
    "api1button.style = btn1_style\n",
    "\n",
    "btn2_style = wdg.ButtonStyle()\n",
    "api2button=wdg.Button(\n",
    "    description='PCR Data',\n",
    "    disabled=False,\n",
    ")\n",
    "btn2_style.button_color = 'lightgreen'\n",
    "btn2_style.font_weight = 'bold'       \n",
    "btn2_style.border_color = 'white' \n",
    "btn2_style.border_width = '2px'    \n",
    "btn2_style.border_radius = '5px' \n",
    "api2button.style = btn2_style\n",
    "\n",
    "# remember to register your button callback function with the button\n",
    "api1button.on_click(api1_button_callback)\n",
    "api2button.on_click(api2_button_callback)\n",
    "\n",
    "hbox = wdg.HBox([api1button, api2button])\n",
    "display(hbox)\n",
    "\n",
    "# run all cells before clicking on this button"
   ]
  },
  {
   "cell_type": "markdown",
   "metadata": {},
   "source": [
    "## Graphs and Analysis"
   ]
  },
  {
   "cell_type": "markdown",
   "metadata": {},
   "source": [
    "The second graph represents the number of vaccinated individuals. It displays data for the first, second, and third doses, as well as the number of deaths."
   ]
  },
  {
   "cell_type": "markdown",
   "metadata": {},
   "source": [
    "The first graph shows the changes in the number of PCR tests and confirmed cases."
   ]
  },
  {
   "cell_type": "code",
   "execution_count": 38,
   "metadata": {},
   "outputs": [
    {
     "data": {
      "application/vnd.jupyter.widget-view+json": {
       "model_id": "2a17778285474e99bc3633fad7253683",
       "version_major": 2,
       "version_minor": 0
      },
      "text/plain": [
       "SelectMultiple(description='pcr', index=(0, 1), options=('case', 'pcr', 'hospital'), rows=3, value=('case', 'p…"
      ]
     },
     "metadata": {},
     "output_type": "display_data"
    },
    {
     "data": {
      "application/vnd.jupyter.widget-view+json": {
       "model_id": "de23cd1c41aa4f9c9950777b70963275",
       "version_major": 2,
       "version_minor": 0
      },
      "text/plain": [
       "Output()"
      ]
     },
     "metadata": {},
     "output_type": "display_data"
    }
   ],
   "source": [
    "pcrcols=wdg.SelectMultiple(\n",
    "    options=['case', 'pcr', 'hospital'], # options available\n",
    "    value=['case', 'pcr'], # initial value\n",
    "    rows=3, # rows of the selection box\n",
    "    description='pcr',\n",
    "    disabled=False\n",
    ")\n",
    "\n",
    "def pcr_graph(graphcolumns):\n",
    "    # our callback function.\n",
    "    ncols=len(graphcolumns)\n",
    "    if ncols>0:\n",
    "        pcrdf.plot(y=list(graphcolumns))\n",
    "        plt.show() # important - graphs won't update properly if this is missing\n",
    "    else:\n",
    "        # if the user has not selected any column, print a message instead\n",
    "        print(\"Click to select data for graph\")\n",
    "    \n",
    "# keep calling age_graph(graphcolumns=value_of_agecols); capture output in widget output    \n",
    "output=wdg.interactive_output(pcr_graph, {'graphcolumns': pcrcols})\n",
    "\n",
    "display(pcrcols, output)"
   ]
  },
  {
   "cell_type": "code",
   "execution_count": 39,
   "metadata": {},
   "outputs": [
    {
     "data": {
      "application/vnd.jupyter.widget-view+json": {
       "model_id": "e75583f0d3b142119caebfe3480ea6b6",
       "version_major": 2,
       "version_minor": 0
      },
      "text/plain": [
       "SelectMultiple(description='vaccination', index=(0, 1, 2, 3), options=('death', 'first', 'second', 'third'), r…"
      ]
     },
     "metadata": {},
     "output_type": "display_data"
    },
    {
     "data": {
      "application/vnd.jupyter.widget-view+json": {
       "model_id": "11c4e815aa644e25b7a42de594201bc8",
       "version_major": 2,
       "version_minor": 0
      },
      "text/plain": [
       "Output()"
      ]
     },
     "metadata": {},
     "output_type": "display_data"
    }
   ],
   "source": [
    "vacdf = pd.read_pickle(\"vacdf.pkl\")\n",
    "\n",
    "vaccols=wdg.SelectMultiple(\n",
    "    options=['death', 'first', 'second', 'third'], # options available\n",
    "    value=['death', 'first', 'second', 'third'], # initial value\n",
    "    rows=4, # rows of the selection box\n",
    "    description='vaccination',\n",
    "    disabled=False\n",
    ")\n",
    "\n",
    "def vac_graph(graphcolumns):\n",
    "    # our callback function.\n",
    "    ncols=len(graphcolumns)\n",
    "    if ncols>0:\n",
    "        vacdf.plot(y=list(graphcolumns))\n",
    "        plt.show() # important - graphs won't update properly if this is missing\n",
    "    else:\n",
    "        # if the user has not selected any column, print a message instead\n",
    "        print(\"Click to select data for graph\")\n",
    "    \n",
    "# keep calling age_graph(graphcolumns=value_of_agecols); capture output in widget output    \n",
    "output=wdg.interactive_output(vac_graph, {'graphcolumns': vaccols})\n",
    "\n",
    "display(vaccols, output)"
   ]
  }
 ],
 "metadata": {
  "kernelspec": {
   "display_name": "Python 3 (ipykernel)",
   "language": "python",
   "name": "python3"
  },
  "language_info": {
   "codemirror_mode": {
    "name": "ipython",
    "version": 3
   },
   "file_extension": ".py",
   "mimetype": "text/x-python",
   "name": "python",
   "nbconvert_exporter": "python",
   "pygments_lexer": "ipython3",
   "version": "3.10.13"
  }
 },
 "nbformat": 4,
 "nbformat_minor": 4
}
